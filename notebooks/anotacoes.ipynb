{
 "cells": [
  {
   "cell_type": "markdown",
   "metadata": {},
   "source": [
    "# anotações\n",
    "\n",
    "## setup do `kedro`\n",
    "\n",
    "1. `python3 -m pip install kedro kedro-viz`\n",
    "2. `python3 -m venv kedro_env`\n",
    "3. `kedro new`\n",
    "\n",
    "...\n",
    "\n",
    "4. `kedro build-reqs`\n",
    "5. `git init ; git add -A ; git commit -m ... ; git branch -M master ; git remote add origin ... ; git push -u origin master`\n",
    "\n",
    "### comandos básicos\n",
    "\n",
    "* `kedro registry list`, mostra a lista de pipelines em `src/PACOTE/pipelines`\n",
    "* `kedro pipeline create PIPELINE`, cria novo pipeline em `src/PACOTE/pipelines`\n",
    "* `kedro viz`, serve visualização de pipelines em _localhost_"
   ]
  },
  {
   "cell_type": "markdown",
   "metadata": {},
   "source": [
    "."
   ]
  }
 ],
 "metadata": {
  "interpreter": {
   "hash": "33b5aa61cc8b9e78c7a26060d3cbeb90d6a74d0ce057bcefceb62c6d1dc217f8"
  },
  "kernelspec": {
   "display_name": "Python 3.8.10 ('kedro_env': venv)",
   "language": "python",
   "name": "python3"
  },
  "language_info": {
   "name": "python",
   "version": "3.8.10"
  },
  "orig_nbformat": 4
 },
 "nbformat": 4,
 "nbformat_minor": 2
}
