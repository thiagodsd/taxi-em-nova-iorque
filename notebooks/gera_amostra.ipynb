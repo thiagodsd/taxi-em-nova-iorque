{
 "cells": [
  {
   "cell_type": "code",
   "execution_count": 1,
   "metadata": {},
   "outputs": [
    {
     "name": "stdout",
     "output_type": "stream",
     "text": [
      "2022-02-19 21:05:51,468 - kedro.io.data_catalog - INFO - Loading data from `treino` (CSVDataSet)...\n"
     ]
    }
   ],
   "source": [
    "treino = catalog.load(\"treino\").sample(frac=0.5, random_state=22)"
   ]
  },
  {
   "cell_type": "code",
   "execution_count": 2,
   "metadata": {},
   "outputs": [
    {
     "name": "stdout",
     "output_type": "stream",
     "text": [
      "2022-02-19 21:05:54,526 - kedro.io.data_catalog - INFO - Saving data to `treino_sample` (CSVDataSet)...\n"
     ]
    }
   ],
   "source": [
    "catalog.save(\"treino_sample\", treino)"
   ]
  },
  {
   "cell_type": "markdown",
   "metadata": {},
   "source": [
    "."
   ]
  }
 ],
 "metadata": {
  "interpreter": {
   "hash": "33b5aa61cc8b9e78c7a26060d3cbeb90d6a74d0ce057bcefceb62c6d1dc217f8"
  },
  "kernelspec": {
   "display_name": "TaxiemNovaIorque",
   "language": "python",
   "name": "python3"
  },
  "language_info": {
   "codemirror_mode": {
    "name": "ipython",
    "version": 3
   },
   "file_extension": ".py",
   "mimetype": "text/x-python",
   "name": "python",
   "nbconvert_exporter": "python",
   "pygments_lexer": "ipython3",
   "version": "3.8.10"
  },
  "toc": {
   "base_numbering": 1,
   "nav_menu": {},
   "number_sections": true,
   "sideBar": true,
   "skip_h1_title": false,
   "title_cell": "Table of Contents",
   "title_sidebar": "Contents",
   "toc_cell": false,
   "toc_position": {},
   "toc_section_display": true,
   "toc_window_display": false
  }
 },
 "nbformat": 4,
 "nbformat_minor": 2
}
